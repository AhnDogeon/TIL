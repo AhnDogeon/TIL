{
 "cells": [
  {
   "cell_type": "markdown",
   "metadata": {},
   "source": [
    "1-1. FALSE\n",
    "\n",
    "1-2. FALSE\n",
    "\n",
    "1-3 TRUE\n",
    "\n",
    "1-4 TRUE \n",
    "\n",
    "\n",
    "2-1 ls 현재 폴더 위치에서 숨김파일을 제외한 폴더와 파일을 보여준다.\n",
    "\n",
    "2-2 cd change directory 로 경로 이동하는 명령어\n",
    "\n",
    "2-3 mkdir \n",
    "\n",
    "make directory  로 새로운 경로(폴더)를 만들어주는 것.\n",
    "\n",
    "2-4 touch 새로운 파일을  생성하는 것.\n",
    "\n",
    "3. tab키를 누르면 그 경로내의 폴더나 파일 이름이 자동완성된다."
   ]
  }
 ],
 "metadata": {
  "kernelspec": {
   "display_name": "Python 3",
   "language": "python",
   "name": "python3"
  },
  "language_info": {
   "codemirror_mode": {
    "name": "ipython",
    "version": 3
   },
   "file_extension": ".py",
   "mimetype": "text/x-python",
   "name": "python",
   "nbconvert_exporter": "python",
   "pygments_lexer": "ipython3",
   "version": "3.6.7"
  }
 },
 "nbformat": 4,
 "nbformat_minor": 2
}
