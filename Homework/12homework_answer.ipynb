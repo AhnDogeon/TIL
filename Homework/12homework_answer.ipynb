{
 "cells": [
  {
   "cell_type": "markdown",
   "metadata": {},
   "source": [
    "1. 반응형 웹 디자인이란 하나의 웹사이트에서 PC, 스마트폰, 태블릿 PC 등 접속하는\n",
    "\n",
    "    _____(a)_____에 따라 가로 폭이나 배치를 변경하여 가독성을 높이도록 하는 \n",
    "    \n",
    "    웹페이지 접근 기법이다. 여기서 (a)에 들어갈 말을 작 성하시오.\n"
   ]
  },
  {
   "cell_type": "markdown",
   "metadata": {},
   "source": [
    "**답 : 스크린 사이즈**"
   ]
  },
  {
   "cell_type": "markdown",
   "metadata": {},
   "source": [
    "2. 모바일 디바이스에서 반응형 웹이 정상적으로 동작하기 위해서는 \n",
    "\n",
    "    head tag 내부에 특정 meta tag를 정의 하여야 한다. 여기서 말하는 meta tag의 가장 일반적인 형태를 작성하시오.\n"
   ]
  },
  {
   "cell_type": "code",
   "execution_count": null,
   "metadata": {},
   "outputs": [],
   "source": [
    "<meta name=\"viewport\" content=\"width=device-width, initial-scale=1.0\">"
   ]
  },
  {
   "cell_type": "markdown",
   "metadata": {},
   "source": [
    "3. Bootstrap에서는 총 5개의 반응형 그룹으로 나누어 화면 크기별로 다른 Layout이 표시된다. \n",
    "\n",
    "    여기서 말하는 5개의 그룹을 구분 짓는 화면 크기의 가로 해상도 4가지를 px단위로 작성하시오."
   ]
  },
  {
   "cell_type": "markdown",
   "metadata": {},
   "source": [
    "**Extra small : < 576px(maxcontainer width), auto, col** \n",
    "\n",
    "**Small : >= 576px(maxcontainer width), 540px, col-sm**\n",
    "\n",
    "**Medium : >= 768px(maxcontainer width), 720px, col-md**\n",
    "\n",
    "**Large : >= 992px(maxcontainer width), 960px, col-lg**\n",
    "\n",
    "**Extra Large : >= 1200px(maxcontainer width), 1140px , col-xl**"
   ]
  }
 ],
 "metadata": {
  "kernelspec": {
   "display_name": "Python 3",
   "language": "python",
   "name": "python3"
  },
  "language_info": {
   "codemirror_mode": {
    "name": "ipython",
    "version": 3
   },
   "file_extension": ".py",
   "mimetype": "text/x-python",
   "name": "python",
   "nbconvert_exporter": "python",
   "pygments_lexer": "ipython3",
   "version": "3.6.7"
  }
 },
 "nbformat": 4,
 "nbformat_minor": 2
}
