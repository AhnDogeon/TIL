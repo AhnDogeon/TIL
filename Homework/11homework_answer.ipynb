{
 "cells": [
  {
   "cell_type": "markdown",
   "metadata": {},
   "source": [
    "1. 다음은 부트스트랩의 어떤 component 이며 아래와 같이 만들려면 어떤 class 를 주어야 하는가."
   ]
  },
  {
   "cell_type": "markdown",
   "metadata": {},
   "source": [
    "부트스트랩의 < button > component 이다. 아래와 같이 만들려면 btn btn-danger class 를 줘야하고,\n",
    "head 부분에 아래와 같은 명령을 하면 된다."
   ]
  },
  {
   "cell_type": "code",
   "execution_count": null,
   "metadata": {},
   "outputs": [],
   "source": [
    "<link rel=\"stylesheet\" href=\"https://stackpath.bootstrapcdn.com/bootstrap/4.2.1/css/bootstrap.min.css\" integrity=\"sha384-GJzZqFGwb1QTTN6wy59ffF1BuGJpLSa9DkKMp0DgiMDm4iYMj70gZWKYbI706tWS\" crossorigin=\"anonymous\">"
   ]
  },
  {
   "cell_type": "markdown",
   "metadata": {},
   "source": [
    "2. 다음은 부트스트랩의 어떤 component 이며 아래와 동일하게 만들어 보시오. "
   ]
  },
  {
   "cell_type": "code",
   "execution_count": null,
   "metadata": {},
   "outputs": [],
   "source": [
    "부트스트랩의 <alerts> component 이다. 아래의 코드를 입력하면 된다.\n",
    "<div class=\"alert alert-info\" role=\"alert\">\n",
    "            Hello SSAFY?!\n",
    "</div>"
   ]
  },
  {
   "cell_type": "markdown",
   "metadata": {},
   "source": [
    "3. 다음 빈칸을 채우시오. \n",
    "\n",
    "“부트스트랩 그리드 시스템은 레이아웃을 (   12   ) 개의 column 으로, \n",
    "\n",
    "(  5  ) 개의 반응형 사이즈 조건을 사용하여 구축한다.”"
   ]
  },
  {
   "cell_type": "markdown",
   "metadata": {},
   "source": [
    "4. 아래와 같은 분할을 grid system 을 활용하여 만들어 보시오.\n",
    "<div class=\"container\">\n",
    "  <div class=\"row\">\n",
    "    <div class=\"col\">\n",
    "      1 of 3\n",
    "    </div>\n",
    "    <div class=\"col-6\">\n",
    "      2 of 3 (wider)\n",
    "    </div>\n",
    "    <div class=\"col\">\n",
    "      3 of 3\n",
    "    </div>\n",
    "  </div>"
   ]
  }
 ],
 "metadata": {
  "kernelspec": {
   "display_name": "Python 3",
   "language": "python",
   "name": "python3"
  },
  "language_info": {
   "codemirror_mode": {
    "name": "ipython",
    "version": 3
   },
   "file_extension": ".py",
   "mimetype": "text/x-python",
   "name": "python",
   "nbconvert_exporter": "python",
   "pygments_lexer": "ipython3",
   "version": "3.6.7"
  }
 },
 "nbformat": 4,
 "nbformat_minor": 2
}
