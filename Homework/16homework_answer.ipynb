{
 "cells": [
  {
   "cell_type": "markdown",
   "metadata": {},
   "source": [
    "1. 다음과 같은 스키마를 가지는 DB 테이블 friends를 생성한다."
   ]
  },
  {
   "cell_type": "code",
   "execution_count": null,
   "metadata": {},
   "outputs": [],
   "source": [
    "CREATE TABLE friends (\n",
    "   ...> id INTEGER PRIMARY KEY AUTOINCREMENT,\n",
    "   ...> name TEXT,\n",
    "   ...> location TEXT);"
   ]
  },
  {
   "cell_type": "markdown",
   "metadata": {},
   "source": [
    "2. 해당 테이블에 다음과 같이 데이터를 입력한다."
   ]
  },
  {
   "cell_type": "code",
   "execution_count": null,
   "metadata": {},
   "outputs": [],
   "source": [
    "INSERT INTO friends (id, name, location)\n",
    "   ...> VALUES\n",
    "   ...> (1, 'Justin', 'Seoul'),                                                                                       \n",
    "   ...> (2, 'Simon', 'New York'),\n",
    "   ...> (3, 'Chang', 'Las Vegas'),\n",
    "   ...> (4, 'John', 'Sydney');"
   ]
  },
  {
   "cell_type": "markdown",
   "metadata": {},
   "source": [
    "3. 스키마를 다음과 같이 변경한다."
   ]
  },
  {
   "cell_type": "code",
   "execution_count": null,
   "metadata": {},
   "outputs": [],
   "source": [
    "ALTER TABLE friends\n",
    "   ...> ADD COLUMN married INTEGER;"
   ]
  },
  {
   "cell_type": "markdown",
   "metadata": {},
   "source": [
    "4. 데이터를 다음과 같이 추가한다."
   ]
  },
  {
   "cell_type": "code",
   "execution_count": null,
   "metadata": {},
   "outputs": [],
   "source": [
    "UPDATE friends SET married = 1 WHERE id = 1;\n",
    "sqlite> UPDATE friends SET married = 0 WHERE id = 2;                                                                  \n",
    "sqlite> UPDATE friends SET married = 0 WHERE id = 3;\n",
    "sqlite> UPDATE friends SET married = 1  WHERE id = 4;"
   ]
  },
  {
   "cell_type": "markdown",
   "metadata": {},
   "source": [
    "5. married가 0인 데이터를 모두 삭제한다."
   ]
  },
  {
   "cell_type": "code",
   "execution_count": null,
   "metadata": {},
   "outputs": [],
   "source": [
    "DELETE FROM friends WHERE married = 0;"
   ]
  },
  {
   "cell_type": "markdown",
   "metadata": {},
   "source": [
    "테이블을 삭제한다."
   ]
  },
  {
   "cell_type": "code",
   "execution_count": null,
   "metadata": {},
   "outputs": [],
   "source": [
    "DROP TABLE friends;"
   ]
  }
 ],
 "metadata": {
  "kernelspec": {
   "display_name": "Python 3",
   "language": "python",
   "name": "python3"
  },
  "language_info": {
   "codemirror_mode": {
    "name": "ipython",
    "version": 3
   },
   "file_extension": ".py",
   "mimetype": "text/x-python",
   "name": "python",
   "nbconvert_exporter": "python",
   "pygments_lexer": "ipython3",
   "version": "3.6.7"
  }
 },
 "nbformat": 4,
 "nbformat_minor": 2
}
