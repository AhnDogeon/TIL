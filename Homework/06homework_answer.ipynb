{
 "cells": [
  {
   "cell_type": "markdown",
   "metadata": {},
   "source": [
    "1. 우리가 이제까지 활용했던 print는 내장함수(built-in function)입니다.\n",
    "배웠던 내장 함수 중 5개만 나열해보세요."
   ]
  },
  {
   "cell_type": "code",
   "execution_count": 1,
   "metadata": {},
   "outputs": [
    {
     "ename": "TypeError",
     "evalue": "max expected 1 arguments, got 0",
     "output_type": "error",
     "traceback": [
      "\u001b[1;31m---------------------------------------------------------------------------\u001b[0m",
      "\u001b[1;31mTypeError\u001b[0m                                 Traceback (most recent call last)",
      "\u001b[1;32m<ipython-input-1-c518a1a8aca5>\u001b[0m in \u001b[0;36m<module>\u001b[1;34m\u001b[0m\n\u001b[1;32m----> 1\u001b[1;33m \u001b[0mmax\u001b[0m\u001b[1;33m(\u001b[0m\u001b[1;33m)\u001b[0m\u001b[1;33m,\u001b[0m \u001b[0mmin\u001b[0m\u001b[1;33m(\u001b[0m\u001b[1;33m)\u001b[0m\u001b[1;33m,\u001b[0m \u001b[0msum\u001b[0m\u001b[1;33m(\u001b[0m\u001b[1;33m)\u001b[0m\u001b[1;33m,\u001b[0m \u001b[0mmap\u001b[0m\u001b[1;33m(\u001b[0m\u001b[1;33m)\u001b[0m\u001b[1;33m,\u001b[0m \u001b[0msorted\u001b[0m\u001b[1;33m(\u001b[0m\u001b[1;33m)\u001b[0m\u001b[1;33m\u001b[0m\u001b[1;33m\u001b[0m\u001b[0m\n\u001b[0m",
      "\u001b[1;31mTypeError\u001b[0m: max expected 1 arguments, got 0"
     ]
    }
   ],
   "source": [
    "max(), min(), sum(), map(), sorted()"
   ]
  },
  {
   "cell_type": "markdown",
   "metadata": {},
   "source": [
    "2. 다음 중 틀린 것은?\n",
    "\n",
    "(1) 함수는 오직 하나의 객체만 반환할 수 있어서, return a, b처럼 쓸 수 없다.\n",
    "\n",
    "(2) 함수에서 return을 작성하지 않으면 None값을 반환한다.\n",
    "\n",
    "(3) 함수의 인자(parameter)는 함수 선언시 설정한 값이며, 인수(argument)는 함수 호출시 넘겨주는 값이다.\n",
    "\n",
    "(4) 가변 인자를 설정할 때는 인자 앞에서 `*`을 붙이고, 이때는 함수 내에서 tuple로 처리된다.\n",
    "\n",
    "(5) 파이썬 활용되는 '스코프(scope)'룰에 따르면 변수에서 값을 Local scope -> \n",
    "    Global scope -> Built-in scope 순으로 찾는다.\n",
    "   "
   ]
  },
  {
   "cell_type": "markdown",
   "metadata": {},
   "source": [
    "### 정답 : 5"
   ]
  },
  {
   "cell_type": "markdown",
   "metadata": {},
   "source": [
    "3. 함수의 인자 값을 설정을 활용하여 곱셈의 결과를 반환하는 my_mul을 만들어주세요\n",
    "\n",
    "예시 호출1) my_mul(6)\n",
    "\n",
    "예시 결과1) 6\n",
    "\n",
    "예시 호출2) my_mul(3,5)\n",
    "\n",
    "예시 결과2) 15\n"
   ]
  },
  {
   "cell_type": "code",
   "execution_count": 3,
   "metadata": {},
   "outputs": [
    {
     "name": "stdout",
     "output_type": "stream",
     "text": [
      "6\n",
      "15\n"
     ]
    }
   ],
   "source": [
    "def my_mul(*a):\n",
    "    b = 1 \n",
    "    for i in a:\n",
    "        b = b*i\n",
    "    return b\n",
    "print(my_mul(6))\n",
    "print(my_mul(3,5))"
   ]
  }
 ],
 "metadata": {
  "kernelspec": {
   "display_name": "Python 3",
   "language": "python",
   "name": "python3"
  },
  "language_info": {
   "codemirror_mode": {
    "name": "ipython",
    "version": 3
   },
   "file_extension": ".py",
   "mimetype": "text/x-python",
   "name": "python",
   "nbconvert_exporter": "python",
   "pygments_lexer": "ipython3",
   "version": "3.6.7"
  }
 },
 "nbformat": 4,
 "nbformat_minor": 2
}
