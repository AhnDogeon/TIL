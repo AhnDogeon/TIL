{
 "cells": [
  {
   "cell_type": "markdown",
   "metadata": {},
   "source": [
    "다음과 같은 클래스 Circle이 있다."
   ]
  },
  {
   "cell_type": "code",
   "execution_count": 2,
   "metadata": {},
   "outputs": [],
   "source": [
    "class Circle():\n",
    "    pi = 3.14\n",
    "    x = 0\n",
    "    y = 0\n",
    "    r = 0\n",
    "    \n",
    "    def __init__(self, x, y, r):\n",
    "        self.x = x\n",
    "        self.y = y\n",
    "        self.r = r\n",
    "    def area(self):\n",
    "        return self.pi * self.r * self.r # 넓이\n",
    "    \n",
    "    def circumference(self):\n",
    "        return 2 * self.pi * self.r # 둘레\n",
    "    \n",
    "    def center(self):\n",
    "        return (self.x, self.y) # 중심\n",
    "    def move(self, x, y): # 이동\n",
    "        self.x = x\n",
    "        self.y = y"
   ]
  },
  {
   "cell_type": "markdown",
   "metadata": {},
   "source": [
    "* 반지름이 3이고 x, y 좌표가 (2,4)인 원을 만들어 넓이와 둘레를 출력하세요."
   ]
  },
  {
   "cell_type": "code",
   "execution_count": 14,
   "metadata": {},
   "outputs": [
    {
     "name": "stdout",
     "output_type": "stream",
     "text": [
      "반지름이  3 이고 x, y 좌표가 (2,4)인 원의 넓이는 28.26 둘레는 18.84\n"
     ]
    }
   ],
   "source": [
    "a = Circle(2,4,3)\n",
    "print(f'반지름이  {a.r} 이고 x, y 좌표가 ({a.x},{a.y})인 원의 넓이는 {round(a.area(),2)} 둘레는 {round(a.circumference(),2)}')\n"
   ]
  }
 ],
 "metadata": {
  "kernelspec": {
   "display_name": "Python 3",
   "language": "python",
   "name": "python3"
  },
  "language_info": {
   "codemirror_mode": {
    "name": "ipython",
    "version": 3
   },
   "file_extension": ".py",
   "mimetype": "text/x-python",
   "name": "python",
   "nbconvert_exporter": "python",
   "pygments_lexer": "ipython3",
   "version": "3.6.7"
  }
 },
 "nbformat": 4,
 "nbformat_minor": 2
}
