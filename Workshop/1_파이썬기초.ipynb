{
 "cells": [
  {
   "cell_type": "markdown",
   "metadata": {},
   "source": [
    "# Day1"
   ]
  },
  {
   "cell_type": "markdown",
   "metadata": {},
   "source": [
    "# Workshop"
   ]
  },
  {
   "cell_type": "code",
   "execution_count": 52,
   "metadata": {
    "scrolled": true
   },
   "outputs": [
    {
     "name": "stdout",
     "output_type": "stream",
     "text": [
      "*****\n",
      "*****\n",
      "*****\n",
      "*****\n",
      "*****\n",
      "*****\n",
      "*****\n",
      "*****\n",
      "*****\n",
      "\n"
     ]
    }
   ],
   "source": [
    "#1번 문제\n",
    "n = 5\n",
    "m = 9\n",
    "\n",
    "#temp = '*'*n\n",
    "#print(f'{temp}\\n'*m)\n",
    "\n",
    "line = '*' * 5 + '\\n'\n",
    "print(line * m)\n"
   ]
  },
  {
   "cell_type": "code",
   "execution_count": 1,
   "metadata": {},
   "outputs": [
    {
     "name": "stdout",
     "output_type": "stream",
     "text": [
      "87.75\n"
     ]
    }
   ],
   "source": [
    "# 다음 딕셔너리에서 평균을 구하시오\n",
    "student = { 'python' : 80, 'algorithm': 99, 'django' : 89, 'flask' : 83 }\n",
    "\n",
    "average = sum(student.values()) / len(student)\n",
    "\n",
    "print(average)\n",
    "\n",
    "\n",
    "\n"
   ]
  },
  {
   "cell_type": "code",
   "execution_count": 65,
   "metadata": {},
   "outputs": [
    {
     "name": "stdout",
     "output_type": "stream",
     "text": [
      "3\n",
      "3\n",
      "3\n",
      "3\n"
     ]
    }
   ],
   "source": [
    "#다음은 학생들의 혈액형(A,B,AB,O)에 대한 데이터이다. for문을 이용하여 각 혈액형\n",
    "#별 학생수의 합계를 구하시오\n",
    "\n",
    "blood_types = ['A', 'B', 'A', 'O', 'AB', 'AB', 'O', 'A', 'B', 'O', 'B', 'AB']\n",
    "\n",
    "A = 0\n",
    "B = 0\n",
    "AB = 0\n",
    "O = 0\n",
    "for i in blood_types:\n",
    "    if i == 'A':\n",
    "        A+=1\n",
    "    if i == 'B':\n",
    "        B+=1\n",
    "    if i == 'AB':\n",
    "        AB+=1\n",
    "    if i == 'O':\n",
    "        O+=1\n",
    "print(A)\n",
    "print(AB)\n",
    "print(B)\n",
    "print(O)\n",
    "\n",
    "\n",
    "\n",
    "\n"
   ]
  }
 ],
 "metadata": {
  "kernelspec": {
   "display_name": "Python 3",
   "language": "python",
   "name": "python3"
  },
  "language_info": {
   "codemirror_mode": {
    "name": "ipython",
    "version": 3
   },
   "file_extension": ".py",
   "mimetype": "text/x-python",
   "name": "python",
   "nbconvert_exporter": "python",
   "pygments_lexer": "ipython3",
   "version": "3.6.7"
  }
 },
 "nbformat": 4,
 "nbformat_minor": 2
}
