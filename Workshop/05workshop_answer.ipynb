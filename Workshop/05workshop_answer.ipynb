{
 "cells": [
  {
   "cell_type": "markdown",
   "metadata": {},
   "source": [
    "  Palindrome은 앞에서부터 읽었을 때와 뒤에서부터 읽었을 때 같은 단어를 뜻한다. 따라서, ‘a’ ‘nan’ ’토마토’ 모두 palindrome에 해당합니다.\n",
    " \n",
    " \n",
    " \n",
    "  따라서, 단어를 입력받아 Palindrome을 검증하고 True나 False를 리턴하는 함수 palindrome(word)를 만들어보세요.\n"
   ]
  },
  {
   "cell_type": "code",
   "execution_count": 1,
   "metadata": {},
   "outputs": [
    {
     "name": "stdout",
     "output_type": "stream",
     "text": [
      "단어를 입력하세요 : tomato\n"
     ]
    },
    {
     "data": {
      "text/plain": [
       "False"
      ]
     },
     "execution_count": 1,
     "metadata": {},
     "output_type": "execute_result"
    }
   ],
   "source": [
    "word = input(\"단어를 입력하세요 : \")\n",
    "word = word.lower()\n",
    "word = word.replace(\" \",\"\")\n",
    "\n",
    "def palindrome(word):\n",
    "    list_word = list(word)\n",
    "    for i in range(0,len(list_word) // 2):\n",
    "        if list_word[i] == list_word[len(list_word) - 1 - i]:\n",
    "            continue\n",
    "        else:\n",
    "            return False\n",
    "    return True\n",
    "palindrome(word)\n",
    "    "
   ]
  },
  {
   "cell_type": "code",
   "execution_count": 32,
   "metadata": {},
   "outputs": [
    {
     "name": "stdout",
     "output_type": "stream",
     "text": [
      "단어를 입력하세요 : Tomato\n",
      "tomato\n"
     ]
    }
   ],
   "source": [
    "word = input(\"단어를 입력하세요 : \")\n",
    "list_word = list(word)\n",
    "print(word.lower())"
   ]
  }
 ],
 "metadata": {
  "kernelspec": {
   "display_name": "Python 3",
   "language": "python",
   "name": "python3"
  },
  "language_info": {
   "codemirror_mode": {
    "name": "ipython",
    "version": 3
   },
   "file_extension": ".py",
   "mimetype": "text/x-python",
   "name": "python",
   "nbconvert_exporter": "python",
   "pygments_lexer": "ipython3",
   "version": "3.6.7"
  }
 },
 "nbformat": 4,
 "nbformat_minor": 2
}
