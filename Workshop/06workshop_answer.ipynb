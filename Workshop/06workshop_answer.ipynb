{
 "cells": [
  {
   "cell_type": "markdown",
   "metadata": {},
   "source": [
    "양의 정수 x를 입력받아 제곱근의 근사값의 결과를 반환하는 함수를 작성하세요.\n",
    "sqrt() 사용금지"
   ]
  },
  {
   "cell_type": "code",
   "execution_count": 6,
   "metadata": {},
   "outputs": [
    {
     "data": {
      "text/plain": [
       "2.23607"
      ]
     },
     "execution_count": 6,
     "metadata": {},
     "output_type": "execute_result"
    }
   ],
   "source": [
    "#기존 답\n",
    "\n",
    "def root(n, b=1, a=2, count=100):\n",
    "    if count == 0:\n",
    "        return b\n",
    "    elif n <((a+b)/2)**2:\n",
    "        a = (a+b) / 2\n",
    "        return root(n, b, a, count -1)\n",
    "    elif n > ((a+b)/2)**2:\n",
    "        b = (a+b) / 2\n",
    "        return root(n,b,a,count-1)\n",
    "\n",
    "root(2) \n",
    "\n",
    "# 워크샵6이랑 프라블럼 셋 푸쉬해놓은거 보기\n",
    "\n",
    "# n = 2\n",
    "# min_n = 1\n",
    "# max_n = 2\n",
    "# min_n ** 2 < n < max_n ** 2\n",
    "# 1 < n < 2\n",
    "# guess = (min_n + max_n) / 2 #1.5\n",
    "# n > guess ** 2\n",
    "# n < guess ** 2\n",
    "\n",
    "# max_n = guess # 1.5\n",
    "\n",
    "# min_n ** 2 < n < max_n **\n",
    "\n",
    "# def my_sqrt(n):\n",
    "#     minimum, maximum = 1, 2\n",
    "    \n",
    "#     while 1:\n",
    "#         if minimum ** 2 < n < maximum ** 2:\n",
    "#             guess = (minimum + maximum) / 2\n",
    "            \n",
    "#             if round(minimum, 5) == round(maximum, 5):\n",
    "#                 return round(guess, 5)\n",
    "#             elif guess ** 2 > n:\n",
    "#                 maximum = guess\n",
    "#             else:\n",
    "#                 minimum = guess\n",
    "            \n",
    "# my_sqrt(2) ### 1, 2 일 때\n",
    "\n",
    "def my_sqrt(n): # 모든 숫자를 다 넣을 수 있음\n",
    "    minimum, maximum = 0, 1\n",
    "    \n",
    "    while 1:\n",
    "        if n == maximum ** 2:\n",
    "            return maximum\n",
    "        elif minimum ** 2 < n < maximum ** 2:\n",
    "            guess = (minimum + maximum) / 2\n",
    "            \n",
    "            if round(minimum, 5) == round(maximum, 5):\n",
    "                return round(guess, 5)\n",
    "            elif guess ** 2 > n:\n",
    "                maximum = guess\n",
    "            else:\n",
    "                minimum = guess\n",
    "        else:\n",
    "            minimum += 1\n",
    "            maximum += 1\n",
    "my_sqrt(5)"
   ]
  },
  {
   "cell_type": "code",
   "execution_count": 19,
   "metadata": {},
   "outputs": [
    {
     "data": {
      "text/plain": [
       "3.872983345761895"
      ]
     },
     "execution_count": 19,
     "metadata": {},
     "output_type": "execute_result"
    }
   ],
   "source": [
    "# 재귀 함수로 썼을 때!!!!\n",
    "import math # isclose 쓰려고 임포트해줌\n",
    "def my_sqrt_r(n, minimum=0, maximum=1): # 재귀함수로 썼을 때\n",
    "    if n == maximum ** 2:\n",
    "        return maximum\n",
    "    elif minimum ** 2 < n < maximum ** 2:\n",
    "        guess = (minimum + maximum) / 2\n",
    "        if math.isclose(minimum, maximum):\n",
    "            return guess\n",
    "        elif guess ** 2 > n:\n",
    "            return my_sqrt_r(n, minimum, guess)\n",
    "        else:\n",
    "            return my_sqrt_r(n, guess, maximum)\n",
    "    else:\n",
    "        maximum += 1\n",
    "        minimum += 1\n",
    "        return my_sqrt_r(n,minimum,maximum)\n",
    "my_sqrt_r(15)"
   ]
  }
 ],
 "metadata": {
  "kernelspec": {
   "display_name": "Python 3",
   "language": "python",
   "name": "python3"
  },
  "language_info": {
   "codemirror_mode": {
    "name": "ipython",
    "version": 3
   },
   "file_extension": ".py",
   "mimetype": "text/x-python",
   "name": "python",
   "nbconvert_exporter": "python",
   "pygments_lexer": "ipython3",
   "version": "3.6.7"
  }
 },
 "nbformat": 4,
 "nbformat_minor": 2
}
