{
 "cells": [
  {
   "cell_type": "markdown",
   "metadata": {},
   "source": [
    "1. 아래 표와 같은 스키마를 가진 DB 테이블을 생성하고, 아래와 같이 Data를 입력해 봅시다."
   ]
  },
  {
   "cell_type": "code",
   "execution_count": null,
   "metadata": {},
   "outputs": [],
   "source": [
    "CREATE TABLE bands (\n",
    "\tid INT PRIMARY KEY AUTOINCREMENT,\n",
    "    name TEXT,\n",
    "    debut INT,\n",
    ");"
   ]
  },
  {
   "cell_type": "code",
   "execution_count": null,
   "metadata": {},
   "outputs": [],
   "source": [
    "INSERT INTO bands (id, name, debut)\n",
    "VALUES\n",
    "(1, 'Queen', 1973),\n",
    "(2, 'Coldplay', 1988),\n",
    "(3, 'MCR', 2001);"
   ]
  },
  {
   "cell_type": "markdown",
   "metadata": {},
   "source": [
    "2. bands 테이블에서 모든 데이터 레코드의 id와 name 만 조회하는 Query 를 작성하라."
   ]
  },
  {
   "cell_type": "code",
   "execution_count": null,
   "metadata": {},
   "outputs": [],
   "source": [
    "SELECT id, name FROM bands"
   ]
  },
  {
   "cell_type": "markdown",
   "metadata": {},
   "source": [
    "3. bands 테이블에서 debut가 2000보다 작은 밴드들의 이름만을 조회하는 Query 를 작성하라."
   ]
  },
  {
   "cell_type": "code",
   "execution_count": null,
   "metadata": {},
   "outputs": [],
   "source": [
    "SELECT name FROM bands WHERE debut < 2000;"
   ]
  }
 ],
 "metadata": {
  "kernelspec": {
   "display_name": "Python 3",
   "language": "python",
   "name": "python3"
  },
  "language_info": {
   "codemirror_mode": {
    "name": "ipython",
    "version": 3
   },
   "file_extension": ".py",
   "mimetype": "text/x-python",
   "name": "python",
   "nbconvert_exporter": "python",
   "pygments_lexer": "ipython3",
   "version": "3.6.7"
  }
 },
 "nbformat": 4,
 "nbformat_minor": 2
}
