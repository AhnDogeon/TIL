{
 "cells": [
  {
   "cell_type": "code",
   "execution_count": null,
   "metadata": {},
   "outputs": [],
   "source": [
    "CREATE TABLE bands (\n",
    "\tid INTEGER PRIMARY KEY AUTOINCREMENT,\n",
    "    name TEXT,\n",
    "    debut INT,\n",
    ");\n",
    "INSERT INTO bands (id, name, debut)\n",
    "VALUES\n",
    "(1, 'Queen', 1973),\n",
    "(2, 'Coldplay', 1988),\n",
    "(3, 'MCR', 2001);\n",
    "\n",
    "SELECT id, name FROM bands\n",
    "\n",
    "SELECT name FROM bands WHERE debut < 2000;\n",
    "\n",
    "ALTER TABLE bands\n",
    "ADD COLUMN members INTEGER;\n",
    "\n",
    "UPDATE bands SET members = 4 WHERE id = 1;\n",
    "UPDATE bands SET members = 5 WHERE id = 2;                                                                    \n",
    "UPDATE bands SET members = 9 WHERE id = 3;                                                                    \n",
    "UPDATE bands SET members = 5 WHERE id = 3;\n",
    "DELETE FROM bands WHERE id = 2;"
   ]
  }
 ],
 "metadata": {
  "kernelspec": {
   "display_name": "Python 3",
   "language": "python",
   "name": "python3"
  },
  "language_info": {
   "codemirror_mode": {
    "name": "ipython",
    "version": 3
   },
   "file_extension": ".py",
   "mimetype": "text/x-python",
   "name": "python",
   "nbconvert_exporter": "python",
   "pygments_lexer": "ipython3",
   "version": "3.6.7"
  }
 },
 "nbformat": 4,
 "nbformat_minor": 2
}
