{
 "cells": [
  {
   "cell_type": "markdown",
   "metadata": {},
   "source": [
    "### Problem set"
   ]
  },
  {
   "cell_type": "markdown",
   "metadata": {},
   "source": [
    "**190108**"
   ]
  },
  {
   "cell_type": "markdown",
   "metadata": {},
   "source": [
    "### 1. 이상한 덧셈\n",
    "> 숫자로 구성된 리스트에서 양의 정수의 합을 구하는 함수, `positive_sum` 을 만들어 보아요\n",
    "\n",
    "예시)\n",
    "```python\n",
    "positive_sum([1, -10, 2]) # 결과 : 3\n",
    "positive_sum([-1, -2, -3, -4]) # 결과 : 0\n",
    "```"
   ]
  },
  {
   "cell_type": "code",
   "execution_count": null,
   "metadata": {},
   "outputs": [],
   "source": [
    "# def positive_sum(n):\n",
    "#     positive = []\n",
    "#     for i in n:\n",
    "#         if i > 0:\n",
    "#             positive.append(n)\n",
    "#     return sum.positive()\n",
    "# print(positive_sum([1, -10, 2]))\n",
    "\n",
    "def positive_sum(numbers):\n",
    "    total = 0\n",
    "    for number in numbers:\n",
    "        if number > 0:\n",
    "            total +=number\n",
    "    return total\n",
    "\n",
    "def pos_sum(numbers):\n",
    "    return sum(x for x in numbers if x > 0)\n",
    "\n",
    "print(positive_sum([1, -10, 2])) # 결과 : 3\n",
    "print(positive_sum([-1, -2, -3, -4])) # 결과 : 0\n",
    "print(pos_sum([-1, -2, -3, -4]))"
   ]
  },
  {
   "cell_type": "markdown",
   "metadata": {},
   "source": [
    "### 2. 문자열 탐색\n",
    "> 문자열 요소로만 이루어진 리스트를 넣었을 때, 문자열의 길이가 2 이상이고 주어진 \n",
    "문자열의 첫 번째와 마지막 문자가 같은 문자열의 수를 세는 함수 `start_end`를 작성하세요\n",
    "\n",
    "예시)\n",
    "```python\n",
    "start_end(['level', 'asdwe', 's', 'abadsfa', 'qlq']) # 결과 : 3\n",
    "```"
   ]
  },
  {
   "cell_type": "code",
   "execution_count": null,
   "metadata": {},
   "outputs": [],
   "source": [
    "def start_end(words):\n",
    "    count = 0\n",
    "    for word in words:\n",
    "        if len(word) > 1 and word[0] == word[-1]:\n",
    "            count += 1\n",
    "    return count\n",
    "\n",
    "print(start_end(['level', 'asdwe', 's', 'abadsfa', 'qlq']))\n",
    "    \n",
    "    "
   ]
  },
  {
   "cell_type": "markdown",
   "metadata": {},
   "source": [
    "### 3. Collatz\n",
    "> Collatz 추측: 어떤 자연수 n이던지, 다음과 같은 작업을 반복하면 1로 만들 수 있다.\n",
    "\n",
    "1. n이 짝수라면 2로 나눈다.\n",
    "2. n이 홀수라면 3을 곱하고 1을 더한다.\n",
    "3. 결과로 나온 수에 1 / 2 의 작업을 1이 될 때까지 반복한다.\n",
    "\n",
    "> 예를 들어 n이 6이면, 6 => 3 => 10 => 5 => 16 => 8 => 4 => 2 => 1이 되며 \n",
    "8번( => 갯수!) 만에 1이 됩니다. 자연수 n이 들어왔을 때, 몇 번의 작업만에 1이 되는지를 'return'하는 함수 'collatz()를 완성하세요\n",
    "\n",
    "> 단! 500 번을 넘어가도 1이 되지 않는다면, -1을 `return` 할게요!\n",
    "\n",
    "예시)\n",
    "```python\n",
    "collatz(6) # 8\n",
    "collatz(16) # 4\n",
    "collatz(6263313) # -1\n",
    "```"
   ]
  },
  {
   "cell_type": "code",
   "execution_count": null,
   "metadata": {
    "scrolled": true
   },
   "outputs": [],
   "source": [
    "def collatz(num):\n",
    "    for i in range(500):\n",
    "        if num % 2: # 0이 아니면 True => 홀수\n",
    "            num = num * 3 + 1\n",
    "        else: # 짝수면\n",
    "            num = num / 2\n",
    "        if num == 1:\n",
    "            return i + 1\n",
    "    return -1\n",
    "\n",
    "print(collatz(6))\n",
    "print(collatz(16))\n",
    "print(collatz(626331))"
   ]
  },
  {
   "cell_type": "markdown",
   "metadata": {},
   "source": [
    "### 4. 솔로 천국\n",
    "> 리스트가 주어질 때, 리스트의 요소 `e`는 `range(0,10)`에 포함되는 자연수이다. 리스트에서 연속적으로 나타나는 숫자는 하나만 남기고\n",
    "전부 제거하여 `return`하는 함수 `lonely()`를 작성해 보세요. 이 때! 제거된 후 남은 수들을 반환할 때는 리스트의 요소들이 순서를 유지해야 합니다.\n",
    "\n",
    "예시)\n",
    "```python\n",
    "lonely([1, 1, 3, 3, 0, 1, 1, 3, 0, 3]) # [1, 3, 0]\n",
    "lonely([4, 4, 3, 3, 3, 4]) #\n",
    "```"
   ]
  },
  {
   "cell_type": "code",
   "execution_count": null,
   "metadata": {},
   "outputs": [],
   "source": [
    "# def lonely(numbers):\n",
    "#     return list(set(numbers)) ## 이렇게 하면 순서가 안지켜지므로 안된다\n",
    "\n",
    "def lonely(numbers):\n",
    "    result = []\n",
    "    for number in numbers:\n",
    "        if not result: # list가 비어있니?\n",
    "            result.append(number)\n",
    "        elif result[-1] != number: # result의 마지막 아이가 원래 리스트의 다음 인덱스값과 다르니?\n",
    "            if result.count(number) == 0: # result에 다음 인덱스값과 같은 값이 없으면? 넣는다\n",
    "                result.append(number)\n",
    "    return result\n",
    "lonely([4, 4, 3, 3, 3, 4]) \n",
    "\n",
    "\n",
    "def lonely(numbers):\n",
    "    result = []\n",
    "    for number in numbers:\n",
    "        if number not in result:\n",
    "            result.append(number)\n",
    "    return result\n",
    "lonely([1, 1, 3, 3, 0, 1, 1, 3, 0, 3])"
   ]
  },
  {
   "cell_type": "markdown",
   "metadata": {},
   "source": [
    "### 5. RGB 삼각형\n",
    "| BG   | RG   | BR   | RR   | GG   | BB   |\n",
    "| ---- | ---- | ---- | ---- | ---- | ---- |\n",
    "| R    | B    | G    | R    | G    | B    |\n",
    "> 입력으로 `'R', 'G', 'B'` 가 섞여있는 문자열이 들어온다. 문자열은 다음과 같이 합쳐진다. 해당 문자열을 처리하여 마지막 색깔만 `return`하는 `triangle()`을 작성하세요.\n",
    "\n",
    "```\n",
    "R R G B R G B B\n",
    " R B R G B R B\n",
    "  G G B R G G\n",
    "   G R G B G\n",
    "    B B R R\n",
    "     R G R\n",
    "      R B\n",
    "       G\n",
    "```\n",
    "예시)\n",
    "```python\n",
    "triangle('RRGBRGBB') # G\n",
    "triangle('GB') # R\n",
    "triangle('B') # B\n",
    "triangle('BGBB') # B"
   ]
  },
  {
   "cell_type": "code",
   "execution_count": null,
   "metadata": {},
   "outputs": [],
   "source": []
  },
  {
   "cell_type": "markdown",
   "metadata": {},
   "source": [
    "### 6.(??) 홀수개를 찾아라\n",
    "> 입력으로 list가 한 개 들어옵니다. 이 list에는 1개의 숫자만 홀수개 들어있습니다. 이 1개의 홀수개인 숫자를 `return`하는 `find_odd()`를 작성하세요.\n",
    "\n",
    "예시)\n",
    "```\n",
    "find_odd(['1, 1, 2, 2, 3, 3, 3]) # 3\n",
    "find_odd(['2, 1, 2]') # 1\n",
    "find_odd([1, 2, 2, 3, 2, 2, 1]) # 3\n",
    "```"
   ]
  },
  {
   "cell_type": "code",
   "execution_count": null,
   "metadata": {},
   "outputs": [],
   "source": [
    "def find_odd(numbers):\n",
    "    for uniq in list(set(number)):\n",
    "        if number.count(uniq) % 2:\n",
    "            return uniq\n",
    "        \n",
    "from operator import xor\n",
    "\n",
    "def find_odd_2(numbers):\n",
    "    result = 0\n",
    "    for n in numbers:\n",
    "        result = result ^ n\n",
    "    return result\n",
    "\n",
    "find_odd_2([1, 2, 2, 3, 2, 2, 1])"
   ]
  },
  {
   "cell_type": "markdown",
   "metadata": {},
   "source": [
    "**190109**"
   ]
  },
  {
   "cell_type": "markdown",
   "metadata": {},
   "source": [
    "### 1. UP & DOWN\n",
    "> 우리가 `range(1,101)` 중 하나를 생각한다. 컴퓨터가 절반에 위치한 숫자를 물어보고,\n",
    "  그 숫자가 맞으면, 생각한 수보다 크면 1, 작으면 -1, 맞으면 0을 입력한다. 이 때 몇 번만에 컴퓨터가 맞췄는지 출력하고 프로그램을 끝낸다.\n",
    "  \n",
    "예시)\n",
    "```sh\n",
    "숫자를 생각하세요...\n",
    "50\n",
    " >-1\n",
    "25\n",
    " >-1\n",
    "13\n",
    " >-1\n",
    "7\n",
    " >1\n",
    "10\n",
    " >1\n",
    "12\n",
    " >0\n",
    " \n",
    "6번\n",
    "```\n",
    "\n",
    "```python\n",
    "def guess_up_down():\n",
    "    print('숫자를 생각하세요...')\n",
    "    n = 100 // 2\n",
    "    print(n)\n",
    "    count\n",
    "    user_feedback = input('작으면 -1, 맞으면 0, 크면 1: ')\n",
    "    ...\n",
    "    print(f'{count} 번 만에 맞춤!'}\n",
    "\n",
    "guess_up_down()\n",
    "```\n",
    "\n",
    "    \n",
    "  \n",
    "          \n",
    "\n",
    "    \n",
    "    \n",
    "    "
   ]
  },
  {
   "cell_type": "code",
   "execution_count": null,
   "metadata": {},
   "outputs": [],
   "source": [
    "def guess_up_down():\n",
    "    print('숫자를 생각하세요.')\n",
    "    count = 0\n",
    "    small_number = 0\n",
    "    large_number = 100\n",
    "    n = (small_number + large_number) // 2\n",
    "    print(f'당신이 생각한 숫자가 {n} 이 맞나요? ')\n",
    "    user_feedback = int(input('작으면 -1, 맞으면 0, 크면 1: '))\n",
    "    while user_feedback != 0:\n",
    "        if user_feedback == -1:\n",
    "            temp = n\n",
    "            large_number = n\n",
    "            small_number = small_number\n",
    "            n = (temp + small_number) // 2\n",
    "            count += 1\n",
    "        elif user_feedback == 1:\n",
    "            temp = n\n",
    "            small_number = n\n",
    "            large_number = large_number\n",
    "            n = (temp + large_number) // 2\n",
    "            count += 1\n",
    "        print(f'당신이 생각한 숫자가 {n} 이 맞나요? ')\n",
    "        user_feedback = int(input('작으면 -1, 맞으면 0, 크면 1: '))\n",
    "    return count\n",
    "\n",
    "\n",
    "guess_up_down()\n",
    "    \n",
    "    \n",
    "    \n",
    "    \n",
    "\n",
    "    "
   ]
  },
  {
   "cell_type": "code",
   "execution_count": 1,
   "metadata": {},
   "outputs": [
    {
     "name": "stdout",
     "output_type": "stream",
     "text": [
      "up or down\n",
      "50\n",
      "0\n",
      "숫자 50 횟수 0\n"
     ]
    }
   ],
   "source": [
    "# def up_down(count=0,k=50,p=25):\n",
    "#     print(f'{k}입니까?')\n",
    "#     i = int(input('번호를 입력하세요 : '))\n",
    "#     if i == 0:\n",
    "#         print(f'{count}번 수행했습니다. 답은 {k}')\n",
    "#     elif i == -1:\n",
    "#         k = k - p\n",
    "#         p = p//2\n",
    "#         up_down(count+1,k,p)\n",
    "#     elif i == 1:\n",
    "#         k = k + p\n",
    "#         p = p//2\n",
    "#         up_down(count+1,k,p)\n",
    "\n",
    "    \n",
    "# up_down()\n",
    "def up_down(b=0,k=50,p=25):\n",
    "    print('up or down')\n",
    "    print(k)\n",
    "    i = int(input())\n",
    "    if i == 0:\n",
    "        print('숫자', k, '횟수',b)\n",
    "    elif i == -1:\n",
    "        k = k-p\n",
    "        p = p//2\n",
    "        return up_down(b+1,k,p)\n",
    "    else:\n",
    "        k=k+p\n",
    "        p=p//2\n",
    "        return up_down(b+1,k,p)\n",
    "    \n",
    "up_down()"
   ]
  },
  {
   "cell_type": "code",
   "execution_count": 12,
   "metadata": {},
   "outputs": [
    {
     "name": "stdout",
     "output_type": "stream",
     "text": [
      "숫자를 생각하세요..!\n",
      "50\n",
      "작으면-1, 크면 1, 맞으면 0: 1\n",
      "75\n",
      "작으면-1, 크면 1, 맞으면 0: 1\n",
      "87\n",
      "작으면-1, 크면 1, 맞으면 0: 1\n",
      "93\n",
      "작으면-1, 크면 1, 맞으면 0: 1\n",
      "96\n",
      "작으면-1, 크면 1, 맞으면 0: 1\n",
      "98\n",
      "작으면-1, 크면 1, 맞으면 0: 1\n",
      "99\n",
      "작으면-1, 크면 1, 맞으면 0: 1\n",
      "99\n",
      "작으면-1, 크면 1, 맞으면 0: 1\n",
      "99\n",
      "작으면-1, 크면 1, 맞으면 0: 1\n",
      "99\n",
      "작으면-1, 크면 1, 맞으면 0: 1\n",
      "99\n",
      "작으면-1, 크면 1, 맞으면 0: 1\n",
      "99\n",
      "작으면-1, 크면 1, 맞으면 0: 1\n",
      "99\n",
      "작으면-1, 크면 1, 맞으면 0: 1\n",
      "99\n",
      "작으면-1, 크면 1, 맞으면 0: 1\n",
      "99\n",
      "작으면-1, 크면 1, 맞으면 0: 1\n",
      "99\n",
      "작으면-1, 크면 1, 맞으면 0: 0\n"
     ]
    },
    {
     "data": {
      "text/plain": [
       "16"
      ]
     },
     "execution_count": 12,
     "metadata": {},
     "output_type": "execute_result"
    }
   ],
   "source": [
    "#선생님 답\n",
    "\n",
    "def guess_up_down():\n",
    "    count = 0\n",
    "    max_n, min_n = 100, 0\n",
    "    print('숫자를 생각하세요..!')\n",
    "    \n",
    "    while 1:\n",
    "        guess = (max_n + min_n) // 2\n",
    "        print(guess)\n",
    "        count += 1\n",
    "        feedback = int(input('작으면-1, 크면 1, 맞으면 0: '))\n",
    "        if feedback == -1:\n",
    "            max_n = guess\n",
    "        elif feedback == 1:\n",
    "            min_n = guess\n",
    "        else:\n",
    "            return count\n",
    "\n",
    "guess_up_down()\n",
    "        "
   ]
  }
 ],
 "metadata": {
  "kernelspec": {
   "display_name": "Python 3",
   "language": "python",
   "name": "python3"
  },
  "language_info": {
   "codemirror_mode": {
    "name": "ipython",
    "version": 3
   },
   "file_extension": ".py",
   "mimetype": "text/x-python",
   "name": "python",
   "nbconvert_exporter": "python",
   "pygments_lexer": "ipython3",
   "version": "3.6.7"
  }
 },
 "nbformat": 4,
 "nbformat_minor": 2
}
