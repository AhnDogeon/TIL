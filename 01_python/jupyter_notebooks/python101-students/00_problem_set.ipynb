{
 "cells": [
  {
   "cell_type": "markdown",
   "metadata": {},
   "source": [
    "### Problem set"
   ]
  },
  {
   "cell_type": "markdown",
   "metadata": {},
   "source": [
    "**190108**"
   ]
  },
  {
   "cell_type": "markdown",
   "metadata": {},
   "source": [
    "### 1. 이상한 덧셈\n",
    "> 숫자로 구성된 리스트에서 양의 정수의 합을 구하는 함수, `positive_sum` 을 만들어 보아요\n",
    "\n",
    "예시)\n",
    "```python\n",
    "positive_sum([1, -10, 2]) # 결과 : 3\n",
    "positive_sum([-1, -2, -3, -4]) # 결과 : 0\n",
    "```"
   ]
  },
  {
   "cell_type": "code",
   "execution_count": 24,
   "metadata": {},
   "outputs": [
    {
     "name": "stdout",
     "output_type": "stream",
     "text": [
      "3\n",
      "0\n",
      "0\n"
     ]
    }
   ],
   "source": [
    "# def positive_sum(n):\n",
    "#     positive = []\n",
    "#     for i in n:\n",
    "#         if i > 0:\n",
    "#             positive.append(n)\n",
    "#     return sum.positive()\n",
    "# print(positive_sum([1, -10, 2]))\n",
    "\n",
    "def positive_sum(numbers):\n",
    "    total = 0\n",
    "    for number in numbers:\n",
    "        if number > 0:\n",
    "            total +=number\n",
    "    return total\n",
    "\n",
    "def pos_sum(numbers):\n",
    "    return sum(x for x in numbers if x > 0)\n",
    "\n",
    "print(positive_sum([1, -10, 2])) # 결과 : 3\n",
    "print(positive_sum([-1, -2, -3, -4])) # 결과 : 0\n",
    "print(pos_sum([-1, -2, -3, -4]))"
   ]
  },
  {
   "cell_type": "markdown",
   "metadata": {},
   "source": [
    "### 2. 문자열 탐색\n",
    "> 문자열 요소로만 이루어진 리스트를 넣었을 때, 문자열의 길이가 2 이상이고 주어진 \n",
    "문자열의 첫 번째와 마지막 문자가 같은 문자열의 수를 세는 함수 `start_end`를 작성하세요\n",
    "\n",
    "예시)\n",
    "```python\n",
    "start_end(['level', 'asdwe', 's', 'abadsfa', 'qlq']) # 결과 : 3\n",
    "```"
   ]
  },
  {
   "cell_type": "code",
   "execution_count": 28,
   "metadata": {},
   "outputs": [
    {
     "name": "stdout",
     "output_type": "stream",
     "text": [
      "3\n"
     ]
    }
   ],
   "source": [
    "def start_end(words):\n",
    "    count = 0\n",
    "    for word in words:\n",
    "        if len(word) > 1 and word[0] == word[-1]:\n",
    "            count += 1\n",
    "    return count\n",
    "\n",
    "print(start_end(['level', 'asdwe', 's', 'abadsfa', 'qlq']))\n",
    "    \n",
    "    "
   ]
  },
  {
   "cell_type": "markdown",
   "metadata": {},
   "source": [
    "### 3. Collatz\n",
    "> Collatz 추측: 어떤 자연수 n이던지, 다음과 같은 작업을 반복하면 1로 만들 수 있다.\n",
    "\n",
    "1. n이 짝수라면 2로 나눈다.\n",
    "2. n이 홀수라면 3을 곱하고 1을 더한다.\n",
    "3. 결과로 나온 수에 1 / 2 의 작업을 1이 될 때까지 반복한다.\n",
    "\n",
    "> 예를 들어 n이 6이면, 6 => 3 => 10 => 5 => 16 => 8 => 4 => 2 => 1이 되며 \n",
    "8번( => 갯수!) 만에 1이 됩니다. 자연수 n이 들어왔을 때, 몇 번의 작업만에 1이 되는지를 'return'하는 함수 'collatz()를 완성하세요\n",
    "\n",
    "> 단! 500 번을 넘어가도 1이 되지 않는다면, -1을 `return` 할게요!\n",
    "\n",
    "예시)\n",
    "```python\n",
    "collatz(6) # 8\n",
    "collatz(16) # 4\n",
    "collatz(6263313) # -1\n",
    "```"
   ]
  },
  {
   "cell_type": "code",
   "execution_count": 37,
   "metadata": {
    "scrolled": true
   },
   "outputs": [
    {
     "name": "stdout",
     "output_type": "stream",
     "text": [
      "8\n",
      "4\n",
      "-1\n"
     ]
    }
   ],
   "source": [
    "def collatz(num):\n",
    "    for i in range(500):\n",
    "        if num % 2: # 0이 아니면 True => 홀수\n",
    "            num = num * 3 + 1\n",
    "        else: # 짝수면\n",
    "            num = num / 2\n",
    "        if num == 1:\n",
    "            return i + 1\n",
    "    return -1\n",
    "\n",
    "print(collatz(6))\n",
    "print(collatz(16))\n",
    "print(collatz(626331))"
   ]
  },
  {
   "cell_type": "markdown",
   "metadata": {},
   "source": [
    "### 4. 솔로 천국\n",
    "> 리스트가 주어질 때, 리스트의 요소 `e`는 `range(0,10)`에 포함되는 자연수이다. 리스트에서 연속적으로 나타나는 숫자는 하나만 남기고\n",
    "전부 제거하여 `return`하는 함수 `lonely()`를 작성해 보세요. 이 때! 제거된 후 남은 수들을 반환할 때는 리스트의 요소들이 순서를 유지해야 합니다.\n",
    "\n",
    "예시)\n",
    "```python\n",
    "lonely([1, 1, 3, 3, 0, 1, 1, 3, 0, 3]) # [1, 3, 0]\n",
    "lonely([4, 4, 3, 3, 3, 4]) #\n",
    "```"
   ]
  },
  {
   "cell_type": "code",
   "execution_count": 9,
   "metadata": {},
   "outputs": [
    {
     "data": {
      "text/plain": [
       "[1, 3, 0]"
      ]
     },
     "execution_count": 9,
     "metadata": {},
     "output_type": "execute_result"
    }
   ],
   "source": [
    "# def lonely(numbers):\n",
    "#     return list(set(numbers)) ## 이렇게 하면 순서가 안지켜지므로 안된다\n",
    "\n",
    "def lonely(numbers):\n",
    "    result = []\n",
    "    for number in numbers:\n",
    "        if not result: # list가 비어있니?\n",
    "            result.append(number)\n",
    "        elif result[-1] != number: # result의 마지막 아이가 원래 리스트의 다음 인덱스값과 다르니?\n",
    "            if result.count(number) == 0: # result에 다음 인덱스값과 같은 값이 없으면? 넣는다\n",
    "                result.append(number)\n",
    "    return result\n",
    "lonely([4, 4, 3, 3, 3, 4]) \n",
    "\n",
    "\n",
    "def lonely(numbers):\n",
    "    result = []\n",
    "    for number in numbers:\n",
    "        if number not in result:\n",
    "            result.append(number)\n",
    "    return result\n",
    "lonely([1, 1, 3, 3, 0, 1, 1, 3, 0, 3])"
   ]
  },
  {
   "cell_type": "markdown",
   "metadata": {},
   "source": [
    "### 5. RGB 삼각형\n",
    "| BG   | RG   | BR   | RR   | GG   | BB   |\n",
    "| ---- | ---- | ---- | ---- | ---- | ---- |\n",
    "| R    | B    | G    | R    | G    | B    |\n",
    "> 입력으로 `'R', 'G', 'B'` 가 섞여있는 문자열이 들어온다. 문자열은 다음과 같이 합쳐진다. 해당 문자열을 처리하여 마지막 색깔만 `return`하는 `triangle()`을 작성하세요.\n",
    "\n",
    "```\n",
    "R R G B R G B B\n",
    " R B R G B R B\n",
    "  G G B R G G\n",
    "   G R G B G\n",
    "    B B R R\n",
    "     R G R\n",
    "      R B\n",
    "       G\n",
    "```\n",
    "예시)\n",
    "```python\n",
    "triangle('RRGBRGBB') # G\n",
    "triangle('GB') # R\n",
    "triangle('B') # B\n",
    "triangle('BGBB') # B"
   ]
  },
  {
   "cell_type": "code",
   "execution_count": null,
   "metadata": {},
   "outputs": [],
   "source": []
  },
  {
   "cell_type": "markdown",
   "metadata": {},
   "source": [
    "### 6.(??) 홀수개를 찾아라\n",
    "> 입력으로 list가 한 개 들어옵니다. 이 list에는 1개의 숫자만 홀수개 들어있습니다. 이 1개의 홀수개인 숫자를 `return`하는 `find_odd()`를 작성하세요.\n",
    "\n",
    "예시)\n",
    "```\n",
    "find_odd(['1, 1, 2, 2, 3, 3, 3]) # 3\n",
    "find_odd(['2, 1, 2]') # 1\n",
    "find_odd([1, 2, 2, 3, 2, 2, 1]) # 3\n",
    "```"
   ]
  },
  {
   "cell_type": "code",
   "execution_count": 2,
   "metadata": {},
   "outputs": [
    {
     "data": {
      "text/plain": [
       "3"
      ]
     },
     "execution_count": 2,
     "metadata": {},
     "output_type": "execute_result"
    }
   ],
   "source": [
    "def find_odd(numbers):\n",
    "    for uniq in list(set(number)):\n",
    "        if number.count(uniq) % 2:\n",
    "            return uniq\n",
    "        \n",
    "from operator import xor\n",
    "\n",
    "def find_odd_2(numbers):\n",
    "    result = 0\n",
    "    for n in numbers:\n",
    "        result = result ^ n\n",
    "    return result\n",
    "\n",
    "find_odd_2([1, 2, 2, 3, 2, 2, 1])"
   ]
  }
 ],
 "metadata": {
  "kernelspec": {
   "display_name": "Python 3",
   "language": "python",
   "name": "python3"
  },
  "language_info": {
   "codemirror_mode": {
    "name": "ipython",
    "version": 3
   },
   "file_extension": ".py",
   "mimetype": "text/x-python",
   "name": "python",
   "nbconvert_exporter": "python",
   "pygments_lexer": "ipython3",
   "version": "3.6.7"
  }
 },
 "nbformat": 4,
 "nbformat_minor": 2
}
