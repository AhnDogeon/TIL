{
 "cells": [
  {
   "cell_type": "markdown",
   "metadata": {},
   "source": [
    "# 시작하기전에\n",
    "\n",
    "<wikipedia - 객체지향 프로그래밍> \n",
    ">\n",
    "> 객체 지향 프로그래밍(영어: Object-Oriented Programming, OOP)은 컴퓨터 프 로그래밍의 패러다임의 하나이다. 객체 지향 프로그래밍은 컴퓨터 프로그램을 명령어의 목록으로 보는 시각에서 벗어나 여러 개의 독립된 단위, 즉 \"객체\"들의 모임으로 파악하고자 하는 것이다. 각각의 객체는 메시지를 주고받고, 데이터를 처리할 수 있다.\n",
    ">\n",
    "> 명령형 프로그래밍인 절차지향 프로그래밍에서 발전된 형태를 나타내며, 기본 구성요소는 다음과 같다.\n",
    "\n",
    "* 클래스(Class) - 같은 종류(또는 문제 해결을 위한)의 집단에 속하는 속성(attribute)과 행위(behavior)를 정의한 것으로 객체지향 프로그램의 기본적인 사용자 정의 데이터형(user define data type)이라고 할 수 있다. 클래스는 프로그래머가 아니지만 해결해야 할 문제가 속하는 영역에 종사하는 사람이라면 사용할 수 있고, 다른 클래스 또는 외부 요소와 독립적으로 디자인하여야 한다.\n",
    "\n",
    "\n",
    "* 인스턴스 - 클래스의 인스턴스(실제로 메모리상에 할당된 것)이다. 객체는 자신 고유의 속성(attribute)을 가지며 클래스에서 정의한 행위(behavior)를 수행할 수 있다. 객체의 행위는 클래스에 정의된 행위에 대한 정의를 공유함으로써 메모리를 경제적으로 사용한다.\n",
    "\n",
    "\n",
    "* 메서드(Method) - 클래스로부터 생성된 객체를 사용하는 방법으로서 객체에 명령을 내리는 것이라 할 수 있다. 메서드는 한 객체의 속성을 조작하는 데 사용된다."
   ]
  },
  {
   "cell_type": "code",
   "execution_count": null,
   "metadata": {},
   "outputs": [],
   "source": [
    "# 복소수를 하나 만들어보고, 타입을 출력해봅시다.\n",
    "img_number = 3 + 4j\n",
    "print( (4j) ** 2)\n",
    "print(img_number ** 2)\n",
    "print(type(img_number))\n"
   ]
  },
  {
   "cell_type": "code",
   "execution_count": null,
   "metadata": {},
   "outputs": [],
   "source": [
    "# 허수부랑 실수부를 함께 출력해봅시다.\n",
    "print(img_number.real)\n",
    "print(img_number.imag) # 괄호가 없어도 수행가능!"
   ]
  },
  {
   "cell_type": "code",
   "execution_count": null,
   "metadata": {},
   "outputs": [],
   "source": [
    "# 리스트를 하나 만들고 정렬해봅시다.\n",
    "a=[3, 2, 1]\n",
    "a.sort()\n",
    "\n",
    "print(a.sort)\n",
    "print(a)"
   ]
  },
  {
   "cell_type": "code",
   "execution_count": null,
   "metadata": {},
   "outputs": [],
   "source": [
    "# 리스트가 할 수 있는 것들을 알아봅시다.\n",
    "# list class의 object들이 할 수 있는 것들을 알아봅시다.\n",
    "\n",
    "print(dir(list))"
   ]
  },
  {
   "cell_type": "markdown",
   "metadata": {},
   "source": [
    "## 실습 문제\n",
    "\n",
    "> 프로그래밍으로 나와 친구의 이름을 저장해보세요.\n",
    ">\n",
    "\n",
    "**각자의 명함과 지갑을 만들어봅시다.**\n",
    "\n",
    "* 내 생일, 전화번호, 이메일주소 정보를 담은 변수를 확인해봅시다.\n",
    "\n",
    "* 주머니(pocket)에는 돈(money)을 포함하여 현재 가지고 있는 것을 작성해보세요.\n",
    "\n",
    "* 나는 인사를 하면서 내 명함에 있는 정보 하나를 이야기합니다. `greeting` 함수를 만듭시다.\n",
    "\n",
    "* 나는 주머니에 원하는 것과 갯수를 지정하여 넣을 수 있습니다. \n",
    "\n",
    "  기존에 값이 있으면, 갯수를 추가하고 없으면 새로 만드는 `in_my_pocket` 함수를 만듭시다.\n",
    "  \n",
    "**친구의 정보와 지갑도 만들어봅시다.**"
   ]
  },
  {
   "cell_type": "code",
   "execution_count": null,
   "metadata": {},
   "outputs": [],
   "source": [
    "# 아래에 자유롭게 코드를 작성해보세요.\n",
    "my_info = {\n",
    "    'name': '안도건',\n",
    "    'phone': '01012345678',\n",
    "    'email': 'ssafy@ssafy.kr'\n",
    "}\n",
    "my_pocket = {\n",
    "    'money': 1000,\n",
    "    'candy': 3 \n",
    "}\n",
    "\n",
    "\n",
    "def greeting(info):\n",
    "    print('Hi!! ')\n",
    "    for key, value in info.items():\n",
    "        print(f'my {key} is {value}')\n",
    "          \n",
    "    \n",
    "greeting(my_info)\n",
    "          \n",
    "def in_my_pocket(pocket, stuff, count):\n",
    "    if pocket.get(stuff):\n",
    "        pocket[stuff] += count\n",
    "    else:\n",
    "        pocket[stuff] = count\n",
    "    return pocket\n",
    "\n",
    "print(in_my_pocket(my_pocket, 'cigar', 1))\n",
    "          \n",
    "          "
   ]
  },
  {
   "cell_type": "code",
   "execution_count": null,
   "metadata": {},
   "outputs": [],
   "source": [
    "# 이름, 깃헙유저네임\n",
    "mates = {\n",
    "    jt = {\n",
    "        'name': '박준태',\n",
    "        'github': 'crossmarien',\n",
    "        'blood_type': 'B'\n",
    "    },\n",
    "    jn = {\n",
    "        'name': '윤지녕',\n",
    "        'github': 'tktnskan',\n",
    "        'blood_type': 'B'  \n",
    "    },\n",
    "    dg = {\n",
    "        'name': '안도건',\n",
    "        'github': 'AhnDogeon',\n",
    "        'blood_type': 'B'\n",
    "    }\n",
    "    \n",
    "}\n",
    "    \n",
    "def arrive(mate):\n",
    "    if mate['name'] == '유태영':\n",
    "        print('화장실에 간다.')\n",
    "        print('출석을 찍는다.')\n",
    "        print('물을 뜬다.')\n",
    "        \n",
    "arrive\n"
   ]
  },
  {
   "cell_type": "code",
   "execution_count": null,
   "metadata": {
    "scrolled": true
   },
   "outputs": [],
   "source": [
    "class Mate:\n",
    "    classroom = 703 # mate 들의 완전한 공통점을 넣어줄 때 이렇게 쓴다.\n",
    "    ban = 3\n",
    "    \n",
    "    def __init__(self, name, blood, github, arrive):\n",
    "        self.name = name\n",
    "        self.blood = blood\n",
    "        self.github = github\n",
    "        self.arrive = arrive\n",
    "        \n",
    "    def get_info(self):\n",
    "        print(self.name, self.blood, self.github)\n",
    "    def dochak(self):\n",
    "        print(f'{self.name}는 도착하면 {self.arrive} 를 합니다.')\n",
    "        \n",
    "        \n",
    "jt = Mate('박준태', 'jtjt', 'b', '화장실') # 새로 클래스의 멤버로 넣어주고 동시에 정보를 세팅\n",
    "jt.get_info() # 세팅한 정보들을 가져온다.\n",
    "jt.dochak()\n",
    "print(jt.ban,jt.classroom) # 공통된 정보\n",
    "\n",
    "jn = Mate('윤지녕', 'jnjn', 'o', '물') # 처음부터 정보준다.\n",
    "jn.get_info()\n",
    "jn.dochak()\n",
    "print(jn.ban, jn.classroom)"
   ]
  },
  {
   "cell_type": "code",
   "execution_count": null,
   "metadata": {
    "scrolled": true
   },
   "outputs": [],
   "source": [
    "class Text: # self는 무조건 있어야 한다.\n",
    "    def __init__(self, content):\n",
    "        self.content = content\n",
    "    def is_palindrome(self):\n",
    "        txt = self.content.replace(' ','').lower()\n",
    "        return txt == ''.join(reversed(txt))\n",
    "        \n",
    "    def start_hangman(self):\n",
    "        guess = input('한글자만 넣어라')\n",
    "        if guess in self.content:\n",
    "            print('오 하나 맞춤!')\n",
    "            return True\n",
    "        else:\n",
    "            print('ㅋㅋㅋㅋㅋ')\n",
    "            return False\n",
    "    \n",
    "    \n",
    "my_text = Text('A santa at NASA') # Test 클래스의 객체를 하나 만든 거임\n",
    "# my_list = [1, 2, 3] # 리스트 클래스에 이런 정보를 담아서 my_list에 담은 것\n",
    "print(my_text.is_palindrome())\n",
    "\n",
    "your_text = Text('apple')\n",
    "your_text.start_hangman()"
   ]
  },
  {
   "cell_type": "code",
   "execution_count": null,
   "metadata": {},
   "outputs": [],
   "source": [
    "# in_my_pocket 함수를 통해 내 주머니에 내용을 추가해봅시다."
   ]
  },
  {
   "cell_type": "code",
   "execution_count": null,
   "metadata": {},
   "outputs": [],
   "source": [
    "# greeting 함수를 통해 인사를 해봅시다.\n",
    "#=> 안녕, kim이야. 01012345678"
   ]
  },
  {
   "cell_type": "markdown",
   "metadata": {},
   "source": [
    "# 클래스 및 인스턴스"
   ]
  },
  {
   "cell_type": "markdown",
   "metadata": {},
   "source": [
    "## 클래스 객체\n",
    "\n",
    "```python\n",
    "class ClassName:\n",
    "    \n",
    "```\n",
    "\n",
    "* 선언과 동시에 클래스 객체가 생성됨.\n",
    "\n",
    "* 또한, 선언된 공간은 지역 스코프로 사용된다.\n",
    "\n",
    "* 정의된 어트리뷰트 중 변수는 멤버 변수로 불리운다.\n",
    "\n",
    "* 정의된 함수(`def`)는 메서드로 불리운다."
   ]
  },
  {
   "cell_type": "code",
   "execution_count": null,
   "metadata": {},
   "outputs": [],
   "source": [
    "# Class를 만들어봅시다.\n",
    "class TestClass:\n",
    "    \"\"\"Test Class\"\"\"\n",
    "    \n",
    "    \n",
    "print(type(TestClass))\n",
    "print(type(Text))\n",
    "\n",
    "tc = TestClass()\n",
    "print(type(tc))"
   ]
  },
  {
   "cell_type": "code",
   "execution_count": null,
   "metadata": {},
   "outputs": [],
   "source": [
    "# Person 클래스를 만들어봅시다.\n",
    "class Person:\n",
    "    name = 'gildong'\n",
    "    \n",
    "    def say_hi(self):\n",
    "        print('hello')\n",
    "    def intro(self):\n",
    "        print(f'I am {self.name}')\n",
    "        \n",
    "p = Person()\n",
    "p.say_hi()"
   ]
  },
  {
   "cell_type": "markdown",
   "metadata": {},
   "source": [
    "* 선언시 self는 반드시 작성해주세요! 나중에 설명드립니다."
   ]
  },
  {
   "cell_type": "markdown",
   "metadata": {},
   "source": [
    "## 인스턴스 객체\n",
    "\n",
    "* 인스턴스 객체는 `ClassName()`을 호출함으로써 선언된다.\n",
    "\n",
    "* 인스턴스 객체와 클래스 객체는 서로 다른 이름 공간을 가지고 있다.\n",
    "\n",
    "* 인스턴스 -> 클래스 -> 전역 순으로 탐색을 한다."
   ]
  },
  {
   "cell_type": "code",
   "execution_count": null,
   "metadata": {},
   "outputs": [],
   "source": [
    "# 클래스 Person의 인스턴스 'iu'를 만들어봅시다. \n",
    "iu = Person()"
   ]
  },
  {
   "cell_type": "code",
   "execution_count": null,
   "metadata": {},
   "outputs": [],
   "source": [
    "# 인사하는 메서드를 호출해봅시다.\n",
    "iu.say_hi()"
   ]
  },
  {
   "cell_type": "code",
   "execution_count": null,
   "metadata": {},
   "outputs": [],
   "source": [
    "# iu의 이름을 확인해봅시다.\n",
    "iu.name"
   ]
  },
  {
   "cell_type": "code",
   "execution_count": null,
   "metadata": {},
   "outputs": [],
   "source": [
    "# iu로 이름을 바꿔주세요.\n",
    "iu.name = 'IU'\n",
    "print(iu.name) "
   ]
  },
  {
   "cell_type": "code",
   "execution_count": null,
   "metadata": {},
   "outputs": [],
   "source": [
    "# iu가 인사를 합니다.\n",
    "iu.intro() # def intro(self):\n",
    "                # print(f'I am {self.name}') 에서 self를 붙여줘야 이름이 바뀐다"
   ]
  },
  {
   "cell_type": "code",
   "execution_count": null,
   "metadata": {},
   "outputs": [],
   "source": [
    "# iu와 Person이 같은지 확인해보겠습니다.\n",
    "isinstance(iu,Person)\n",
    "isinstance(1, str)\n",
    "\n",
    "if isinstance(user_input, str) # 이제 사용자 입력값이 정수일 때나 문자열일 때 나눌 수 있음!!!"
   ]
  },
  {
   "cell_type": "code",
   "execution_count": null,
   "metadata": {},
   "outputs": [],
   "source": [
    "# iu와 Person이 같은지 확인해보겠습니다.\n",
    "type(iu) == Person\n",
    "type('a') == str"
   ]
  },
  {
   "cell_type": "code",
   "execution_count": null,
   "metadata": {},
   "outputs": [],
   "source": [
    "# iu를 출력해봅시다.\n",
    "print(iu)"
   ]
  },
  {
   "cell_type": "code",
   "execution_count": null,
   "metadata": {},
   "outputs": [],
   "source": [
    "# iu를 출력해봅시다 2.\n",
    "iu"
   ]
  },
  {
   "cell_type": "code",
   "execution_count": null,
   "metadata": {},
   "outputs": [],
   "source": [
    "# type을 확인해봅시다.\n",
    "type(iu)"
   ]
  },
  {
   "cell_type": "markdown",
   "metadata": {},
   "source": [
    "* 파이썬 출력의 비밀 : repr, str"
   ]
  },
  {
   "cell_type": "code",
   "execution_count": null,
   "metadata": {},
   "outputs": [],
   "source": []
  },
  {
   "cell_type": "code",
   "execution_count": null,
   "metadata": {},
   "outputs": [],
   "source": [
    "# 강다니엘을 만들어봅시다.\n",
    "Kang = Person()"
   ]
  },
  {
   "cell_type": "code",
   "execution_count": null,
   "metadata": {},
   "outputs": [],
   "source": [
    "# 강다니엘을 출력해봅시다.\n",
    "print(Kang, Kang.name)\n",
    "Kang.name = 'Daniel'\n",
    "print(Kang.name)"
   ]
  },
  {
   "cell_type": "markdown",
   "metadata": {},
   "source": [
    "## 실습 문제 발전\n",
    "\n",
    "> 지금까지 배운 것을 통해서 Person 클래스를 만들고, 친구와 나를 표현해봅시다.\n",
    ">\n",
    "> 주머니와 정보를 가지고 있고 (멤버 변수)\n",
    "> \n",
    "> 인사(`greeting()`)와 주머니에 내용을 추가(`in_my_pocket()`)할 수 있습니다. (메서드)\n",
    ">\n",
    "> 추가적으로 `get_my_pocket()`으로 지갑에 담긴 정보를 가져와 봅시다.\n",
    ">\n",
    "> 그리고 사람을 출력하면, 지갑을 제외한 정보를 보여줘보세요. "
   ]
  },
  {
   "cell_type": "code",
   "execution_count": null,
   "metadata": {},
   "outputs": [],
   "source": [
    "# 아래에 코드를 작성해주세요.    "
   ]
  },
  {
   "cell_type": "markdown",
   "metadata": {},
   "source": [
    "## MyList만들기\n",
    "\n",
    "> 이제 배운 것을 활용하여 나만의 리스트 객체를 만들 수 있습니다. \n",
    ">\n",
    "> `class MyList:`\n",
    ">\n",
    "\n",
    "```\n",
    "* 변수\n",
    "data : 비어 있는 리스트\n",
    "\n",
    "* 메서드 \n",
    "append : 값을 받아 추가합니다.\n",
    "pop : 마지막에 있는 값을 없애고, 해당 값을 리턴합니다.\n",
    "reverse : 제자리에서 뒤집고 리턴 값은 없습니다.\n",
    "count(x) : x의 갯수를 반환합니다.\n",
    "clear : 값을 모두 삭제합니다.\n",
    "\n",
    "__repr__ : ex) '리스트 내용 1, 2, 3'\n",
    "```"
   ]
  },
  {
   "cell_type": "code",
   "execution_count": null,
   "metadata": {},
   "outputs": [],
   "source": [
    "# 아래에 코드를 작성해주세요."
   ]
  },
  {
   "cell_type": "markdown",
   "metadata": {},
   "source": [
    "## 자유롭게 만들어보기\n",
    "\n",
    "> 이 세상에 있는 무엇인가를 자유롭게 표현해주세요."
   ]
  },
  {
   "cell_type": "code",
   "execution_count": 43,
   "metadata": {
    "scrolled": true
   },
   "outputs": [
    {
     "name": "stdout",
     "output_type": "stream",
     "text": [
      "피카츄1의 몸통박치기\n",
      " 피카츄2의 피는 90 입니다. \n",
      "========\n",
      "피카츄2의 아이언테일\n",
      " 피카츄1의 피는 87 입니다. \n",
      "===========================\n",
      "피카츄1의 몸통박치기\n",
      " 피카츄2의 피는 80 입니다. \n",
      "========\n",
      "피카츄2의 몸통박치기\n",
      " 피카츄1의 피는 78 입니다. \n",
      "===========================\n",
      "피카츄1의 아이언테일\n",
      " 피카츄2의 피는 68 입니다. \n",
      "========\n",
      "피카츄2의 아이언테일\n",
      " 피카츄1의 피는 67 입니다. \n",
      "===========================\n",
      "피카츄1의 전광석화\n",
      " 피카츄2의 피는 63 입니다. \n",
      "========\n",
      "피카츄2의 전광석화\n",
      " 피카츄1의 피는 62 입니다. \n",
      "===========================\n",
      "피카츄1의 아이언테일\n",
      " 피카츄2의 피는 49 입니다. \n",
      "========\n",
      "피카츄2의 십만볼트\n",
      " 피카츄1의 피는 53 입니다. \n",
      "===========================\n",
      "피카츄1의 전광석화\n",
      " 피카츄2의 피는 42 입니다. \n",
      "========\n",
      "피카츄2의 몸통박치기\n",
      " 피카츄1의 피는 45 입니다. \n",
      "===========================\n",
      "피카츄1의 아이언테일\n",
      " 피카츄2의 피는 30 입니다. \n",
      "========\n",
      "피카츄2의 아이언테일\n",
      " 피카츄1의 피는 31 입니다. \n",
      "===========================\n",
      "피카츄1의 전광석화\n",
      " 피카츄2의 피는 27 입니다. \n",
      "========\n",
      "피카츄2의 아이언테일\n",
      " 피카츄1의 피는 17 입니다. \n",
      "===========================\n",
      "피카츄1의 몸통박치기\n",
      " 피카츄2의 피는 20 입니다. \n",
      "========\n",
      "피카츄2의 십만볼트\n",
      " 피카츄1의 피는 2 입니다. \n",
      "===========================\n",
      "피카츄1의 아이언테일\n",
      " 피카츄2의 피는 9 입니다. \n",
      "========\n",
      "피카츄2의 전광석화\n",
      " 피카츄1의 피는 -2 입니다. \n",
      "===========================\n",
      "피카츄2의 승리! 승리 승리 승리 승리 승리 승리 승리\n"
     ]
    }
   ],
   "source": [
    "# 아래에 코드를 작성해주세요.\n",
    "import random\n",
    "class Pokemon:\n",
    "    def __init__(self, name, level):\n",
    "        self.name = name\n",
    "        self.level = level\n",
    "        self.hp = level * 10\n",
    "    \n",
    "    def set_hp(self,point):\n",
    "        self.hp += point\n",
    "    def check_status(self):\n",
    "        if self.hp > 0:\n",
    "            return True\n",
    "        else:\n",
    "            return False\n",
    "    def body_attack(self, enemy):\n",
    "        print(f'{self.name}의 몸통박치기')\n",
    "        enemy.set_hp(-random.randrange(7,11))\n",
    "        \n",
    "    def volt_attack(self, enemy):\n",
    "        print(f'{self.name}의 십만볼트')\n",
    "        enemy.set_hp(-random.randrange(4,16))\n",
    "    def speed_star(self,enemy):\n",
    "        print(f'{self.name}의 전광석화')\n",
    "        enemy.set_hp(-random.randrange(3,8))\n",
    "    def tail(self,enemy):\n",
    "        print(f'{self.name}의 아이언테일')\n",
    "        enemy.set_hp(-random.randrange(11,15))\n",
    "        \n",
    "    def attack(self, enemy):\n",
    "        choice = random.choice([1, 2, 3, 4])\n",
    "        if choice == 1:\n",
    "            self.body_attack(enemy)\n",
    "        elif choice == 2:\n",
    "            self.volt_attack(enemy)\n",
    "        elif choice == 3:\n",
    "            self.speed_star(enemy)\n",
    "        elif choice == 4:\n",
    "            self.tail(enemy)\n",
    "    \n",
    "    \n",
    "    \n",
    "a = Pokemon('피카츄1',10)\n",
    "b = Pokemon('피카츄2', 10)\n",
    "\n",
    "import random\n",
    "while a.check_status and b.check_status:\n",
    "    a.attack(b)\n",
    "    print(f' {b.name}의 피는 {b.hp} 입니다. ')\n",
    "    print('========')\n",
    "    b.attack(a)\n",
    "    print(f' {a.name}의 피는 {a.hp} 입니다. ')\n",
    "    print('===========================')\n",
    "    \n",
    "    if a.hp <= 0 or b.hp<=0:\n",
    "        if a.hp <= 0:\n",
    "            print(f'{b.name}의 승리! 승리 승리 승리 승리 승리 승리 승리')\n",
    "        elif b.hp <= 0:\n",
    "            print(f'{a.name}의 승리! 승리 승리 승리 승리 승리 승리')\n",
    "        break"
   ]
  },
  {
   "cell_type": "code",
   "execution_count": null,
   "metadata": {},
   "outputs": [],
   "source": []
  },
  {
   "cell_type": "code",
   "execution_count": null,
   "metadata": {},
   "outputs": [],
   "source": [
    "#상속받으려면 class Pikachu(Pokemon) 이렇게 괄호 안에 넣어두면 된다\n",
    "\n",
    "class Pikachu(Pokemon):\n",
    "    def body_attack(self, enemy):\n",
    "        enemy.set_hp(-1*level)\n",
    "    def volt_attack(self, enemy):\n",
    "        if 'water' in enemy.type:\n",
    "            enemy.set_hp(-1,3 * self.level)\n",
    "        else:"
   ]
  }
 ],
 "metadata": {
  "kernelspec": {
   "display_name": "Python 3",
   "language": "python",
   "name": "python3"
  },
  "language_info": {
   "codemirror_mode": {
    "name": "ipython",
    "version": 3
   },
   "file_extension": ".py",
   "mimetype": "text/x-python",
   "name": "python",
   "nbconvert_exporter": "python",
   "pygments_lexer": "ipython3",
   "version": "3.6.7"
  },
  "latex_envs": {
   "LaTeX_envs_menu_present": true,
   "autoclose": false,
   "autocomplete": true,
   "bibliofile": "biblio.bib",
   "cite_by": "apalike",
   "current_citInitial": 1,
   "eqLabelWithNumbers": true,
   "eqNumInitial": 1,
   "hotkeys": {
    "equation": "Ctrl-E",
    "itemize": "Ctrl-I"
   },
   "labels_anchors": false,
   "latex_user_defs": false,
   "report_style_numbering": false,
   "user_envs_cfg": false
  },
  "toc": {
   "base_numbering": 1,
   "nav_menu": {},
   "number_sections": true,
   "sideBar": true,
   "skip_h1_title": false,
   "title_cell": "Table of Contents",
   "title_sidebar": "Contents",
   "toc_cell": false,
   "toc_position": {},
   "toc_section_display": true,
   "toc_window_display": false
  }
 },
 "nbformat": 4,
 "nbformat_minor": 2
}
