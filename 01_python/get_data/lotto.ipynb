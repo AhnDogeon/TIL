{
 "cells": [
  {
   "cell_type": "code",
   "execution_count": 15,
   "metadata": {},
   "outputs": [],
   "source": [
    "import requests #  파있너에서 url요청할 때 엔터를 담당(요청)\n",
    "URL = 'https://www.dhlottery.co.kr/common.do?method=getLottoNumber&drwNo=837'\n",
    "\n",
    "got = requests.get(URL) # get 요청보낸단 말, 엔터를 치는 행동\n",
    "dir(got) # got이 할 수 있는 행동들\n",
    "got.text # 얘를 딕셔너리로 바꿔야함\n",
    "\n",
    "data = got.json() # 딕셔너리로 바껴라 이제 우리가 써먹을 수 있음"
   ]
  },
  {
   "cell_type": "code",
   "execution_count": 16,
   "metadata": {},
   "outputs": [
    {
     "name": "stdout",
     "output_type": "stream",
     "text": [
      "None\n"
     ]
    }
   ],
   "source": [
    "numbers = []\n",
    "for k , v in data.items():\n",
    "    if 'drWtNo' in k:\n",
    "        numbers.append(v)\n",
    "print(numbers.sort())"
   ]
  }
 ],
 "metadata": {
  "kernelspec": {
   "display_name": "Python 3",
   "language": "python",
   "name": "python3"
  },
  "language_info": {
   "codemirror_mode": {
    "name": "ipython",
    "version": 3
   },
   "file_extension": ".py",
   "mimetype": "text/x-python",
   "name": "python",
   "nbconvert_exporter": "python",
   "pygments_lexer": "ipython3",
   "version": "3.6.7"
  }
 },
 "nbformat": 4,
 "nbformat_minor": 2
}
