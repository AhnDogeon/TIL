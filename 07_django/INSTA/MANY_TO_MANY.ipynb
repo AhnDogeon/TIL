{
 "cells": [
  {
   "cell_type": "markdown",
   "metadata": {},
   "source": [
    "# Many To Many Relation\n",
    "\n",
    "## Student\n",
    "\n",
    "| id(PK) | name      |\n",
    "| ------ | --------- |\n",
    "| INT    | CharField |\n",
    "\n",
    "\n",
    "\n",
    "## Enrolment\n",
    "\n",
    "| id(PK) | student_id(FK - Student) | lecture_id(FK - Lecture) |\n",
    "| ------ | ------------------------ | ------------------------ |\n",
    "| INT    | INT                      | INT                      |\n",
    "\n",
    "\n",
    "\n",
    "\n",
    "\n",
    "## Lecture\n",
    "\n",
    "| id(PK) | title     |\n",
    "| ------ | --------- |\n",
    "| INT    | CharField |\n",
    "\n"
   ]
  },
  {
   "cell_type": "code",
   "execution_count": null,
   "metadata": {},
   "outputs": [],
   "source": [
    "# Student.objects.create(name='유태영')\n",
    "# Student.objects.create(name='강동주')\n",
    "# Student.objects.create(name='김탁희')\n",
    "# Student.objects.create(name='김재석')\n",
    "# Student.objects.count()"
   ]
  },
  {
   "cell_type": "code",
   "execution_count": null,
   "metadata": {},
   "outputs": [],
   "source": [
    "# Lecture.objects.create(title='컴퓨터 운영체제')\n",
    "# Lecture.objects.create(title='HTTP 와 네트워크')\n",
    "# Lecture.objects.count()"
   ]
  },
  {
   "cell_type": "code",
   "execution_count": null,
   "metadata": {},
   "outputs": [],
   "source": [
    "# Enrolment.objects.create(student_id=2, lecture_id=1)\n",
    "\n",
    "# 황은석 = Student.objects.get(id=2)\n",
    "# algo = Lecture.objects.get(id=2)\n",
    "\n",
    "# Enrolment.objects.create(student=황은석, lecture=algo)\n",
    "\n",
    "# Enrolment.objects.create(student_id=3, lecture_id=2)\n",
    "# Enrolment.objects.create(student_id=4, lecture_id=1)\n",
    "# Enrolment.objects.create(student_id=2, lecture_id=2)\n",
    "Enrolment.objects.count()"
   ]
  },
  {
   "cell_type": "code",
   "execution_count": null,
   "metadata": {},
   "outputs": [],
   "source": [
    "student = Student.objects.get(name='강동주')\n",
    "수강신청1 = student.enrolment_set.first()\n",
    "수강신청2 = student.enrolment_set.last()\n",
    "\n",
    "수강신청1.lecture.title\n",
    "수강신청2.lecture.title"
   ]
  },
  {
   "cell_type": "code",
   "execution_count": null,
   "metadata": {},
   "outputs": [],
   "source": [
    "# 수업 여러 개 듣는 사람 1명을 student에 저장합니다.\n",
    "student = Student.objects.get(name='김동주')"
   ]
  },
  {
   "cell_type": "code",
   "execution_count": null,
   "metadata": {},
   "outputs": [],
   "source": [
    "# student 의 수업들 제목을 출력하는 for문을 작성해 보세요\n",
    "for 수강신청 in student.enrolment_set.all():\n",
    "    print(수강신청.lecture.title)"
   ]
  },
  {
   "cell_type": "code",
   "execution_count": null,
   "metadata": {},
   "outputs": [],
   "source": [
    "# student 의 수업들 중 제목이 10 글자 넘는 수업의 제목을 출력\n",
    "for x in student.enrolment_set.all():\n",
    "    if len(x.lecture.title) > 10:\n",
    "        print(x.lecture.title)"
   ]
  },
  {
   "cell_type": "code",
   "execution_count": null,
   "metadata": {},
   "outputs": [],
   "source": [
    "Lecture.objects.create(title='dddd')"
   ]
  },
  {
   "cell_type": "code",
   "execution_count": null,
   "metadata": {},
   "outputs": [],
   "source": [
    "# Lecture.students => 수업 듣는 모든 학생들\n",
    "# student.Lectures => 학생이 듣는 모든 수업들\n",
    "\n"
   ]
  },
  {
   "cell_type": "code",
   "execution_count": 1,
   "metadata": {},
   "outputs": [
    {
     "data": {
      "text/plain": [
       "<QuerySet [<Client: Client object (5)>, <Client: Client object (3)>, <Client: Client object (4)>]>"
      ]
     },
     "execution_count": 1,
     "metadata": {},
     "output_type": "execute_result"
    }
   ],
   "source": [
    "# Hotel.dummy(1)\n",
    "new_hotel = Hotel.objects.last()\n",
    "# new_hotel.clients.add(Client.objects.last())\n",
    "new_hotel.clients.add(\n",
    "    Client.objects.get(id=3),\n",
    "    Client.objects.get(id=5),\n",
    "    Client.objects.get(id=7),\n",
    ")\n",
    "new_hotel.clients.all().filter(name__contains='h')"
   ]
  },
  {
   "cell_type": "code",
   "execution_count": 3,
   "metadata": {},
   "outputs": [],
   "source": [
    "# Client.dummy(1)\n",
    "# Client.objects.all().values('id', 'name')\n",
    "client = Client.objects.get(id=3)\n",
    "\n",
    "client.hotels.add(\n",
    "    Hotel.objects.get(id=2),\n",
    "    Hotel.objects.get(id=4),\n",
    "    Hotel.objects.get(id=6)\n",
    ")"
   ]
  },
  {
   "cell_type": "code",
   "execution_count": 5,
   "metadata": {},
   "outputs": [
    {
     "data": {
      "text/plain": [
       "<QuerySet [{'name': 'Mcfarland, Rice and Gray'}, {'name': 'Henry, Stark and Miller'}, {'name': 'Nichols and Sons'}, {'name': 'Fernandez Ltd'}]>"
      ]
     },
     "execution_count": 5,
     "metadata": {},
     "output_type": "execute_result"
    }
   ],
   "source": [
    "client.hotels.all().values('name')"
   ]
  },
  {
   "cell_type": "code",
   "execution_count": null,
   "metadata": {},
   "outputs": [],
   "source": []
  }
 ],
 "metadata": {
  "kernelspec": {
   "display_name": "Django Shell-Plus",
   "language": "python",
   "name": "django_extensions"
  },
  "language_info": {
   "codemirror_mode": {
    "name": "ipython",
    "version": 3
   },
   "file_extension": ".py",
   "mimetype": "text/x-python",
   "name": "python",
   "nbconvert_exporter": "python",
   "pygments_lexer": "ipython3",
   "version": "3.7.3"
  }
 },
 "nbformat": 4,
 "nbformat_minor": 2
}
