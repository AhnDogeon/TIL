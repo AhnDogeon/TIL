{
 "cells": [
  {
   "cell_type": "markdown",
   "metadata": {},
   "source": [
    "# ONE TO MANY 3\n",
    "\n",
    "## Student\n",
    "\n",
    "| id(PK) | name          |\n",
    "| ------ | ------------- |\n",
    "| INT    | CharField(20) |\n",
    "\n",
    "\n",
    "\n",
    "## Message\n",
    "\n",
    "| id(PK) | content       | student(FK) - Student |\n",
    "| ------ | ------------- | --------------------- |\n",
    "| INT    | CharField(30) | INT                   |\n",
    "\n",
    "\n",
    "\n",
    "## Reply\n",
    "\n",
    "| id(PK) | content       | student(FK) - Student | message(FK) - Message |\n",
    "| ------ | ------------- | --------------------- | --------------------- |\n",
    "| INT    | CharField(30) | INT                   | INT                   |\n",
    "\n"
   ]
  },
  {
   "cell_type": "code",
   "execution_count": 1,
   "metadata": {},
   "outputs": [
    {
     "data": {
      "text/plain": [
       "<Student: Student object (6)>"
      ]
     },
     "execution_count": 1,
     "metadata": {},
     "output_type": "execute_result"
    }
   ],
   "source": [
    "Student.objects.create(name='지상현')\n",
    "Student.objects.create(name='리상택')\n",
    "Student.objects.create(name='여현구')\n",
    "Student.objects.create(name='조성규')\n",
    "Student.objects.create(name='송건호')\n",
    "Student.objects.create(name='이종화')"
   ]
  },
  {
   "cell_type": "code",
   "execution_count": 2,
   "metadata": {},
   "outputs": [],
   "source": [
    "rolling_paper = Message()\n",
    "rolling_paper.student = Student.objects.get(id=1)\n",
    "rolling_paper.content = '지상현님에게 메세지를 남겨주세요'\n",
    "rolling_paper.save()"
   ]
  },
  {
   "cell_type": "code",
   "execution_count": 6,
   "metadata": {},
   "outputs": [
    {
     "data": {
      "text/plain": [
       "'지상현'"
      ]
     },
     "execution_count": 6,
     "metadata": {},
     "output_type": "execute_result"
    }
   ],
   "source": [
    "rolling_paper.student.name"
   ]
  },
  {
   "cell_type": "code",
   "execution_count": 8,
   "metadata": {},
   "outputs": [],
   "source": [
    "reply = Reply()\n",
    "reply.message = rolling_paper\n",
    "reply.student = Student.objects.get(name='리상택')\n",
    "reply.content = '00111010011001101111'\n",
    "reply.save()"
   ]
  },
  {
   "cell_type": "code",
   "execution_count": 19,
   "metadata": {},
   "outputs": [],
   "source": [
    "reply = Reply()\n",
    "reply.message = rolling_paper\n",
    "reply.student = Student.objects.get(name='여현구')\n",
    "reply.content = 'We are Avengers'\n",
    "reply.save()"
   ]
  },
  {
   "cell_type": "code",
   "execution_count": 21,
   "metadata": {},
   "outputs": [
    {
     "data": {
      "text/plain": [
       "'We are Avengers'"
      ]
     },
     "execution_count": 21,
     "metadata": {},
     "output_type": "execute_result"
    }
   ],
   "source": [
    "reply.content"
   ]
  },
  {
   "cell_type": "code",
   "execution_count": 22,
   "metadata": {},
   "outputs": [
    {
     "data": {
      "text/plain": [
       "'지상현님에게 메세지를 남겨주세요'"
      ]
     },
     "execution_count": 22,
     "metadata": {},
     "output_type": "execute_result"
    }
   ],
   "source": [
    "reply.message.content"
   ]
  },
  {
   "cell_type": "code",
   "execution_count": 23,
   "metadata": {},
   "outputs": [
    {
     "data": {
      "text/plain": [
       "<Message: Message object (1)>"
      ]
     },
     "execution_count": 23,
     "metadata": {},
     "output_type": "execute_result"
    }
   ],
   "source": [
    "reply.message"
   ]
  },
  {
   "cell_type": "code",
   "execution_count": 24,
   "metadata": {},
   "outputs": [
    {
     "data": {
      "text/plain": [
       "'여현구'"
      ]
     },
     "execution_count": 24,
     "metadata": {},
     "output_type": "execute_result"
    }
   ],
   "source": [
    "reply.student.name"
   ]
  },
  {
   "cell_type": "code",
   "execution_count": 25,
   "metadata": {},
   "outputs": [
    {
     "data": {
      "text/plain": [
       "'지상현'"
      ]
     },
     "execution_count": 25,
     "metadata": {},
     "output_type": "execute_result"
    }
   ],
   "source": [
    "reply.message.student.name"
   ]
  },
  {
   "cell_type": "code",
   "execution_count": 26,
   "metadata": {},
   "outputs": [
    {
     "data": {
      "text/plain": [
       "<QuerySet [<Reply: Reply object (1)>, <Reply: Reply object (2)>]>"
      ]
     },
     "execution_count": 26,
     "metadata": {},
     "output_type": "execute_result"
    }
   ],
   "source": [
    "reply.message.reply_set.all()"
   ]
  }
 ],
 "metadata": {
  "kernelspec": {
   "display_name": "Django Shell-Plus",
   "language": "python",
   "name": "django_extensions"
  },
  "language_info": {
   "codemirror_mode": {
    "name": "ipython",
    "version": 3
   },
   "file_extension": ".py",
   "mimetype": "text/x-python",
   "name": "python",
   "nbconvert_exporter": "python",
   "pygments_lexer": "ipython3",
   "version": "3.7.3"
  }
 },
 "nbformat": 4,
 "nbformat_minor": 2
}
